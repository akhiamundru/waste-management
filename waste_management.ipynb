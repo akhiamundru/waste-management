{
  "nbformat": 4,
  "nbformat_minor": 0,
  "metadata": {
    "colab": {
      "provenance": []
    },
    "kernelspec": {
      "name": "python3",
      "display_name": "Python 3"
    },
    "language_info": {
      "name": "python"
    }
  },
  "cells": [
    {
      "cell_type": "code",
      "source": [
        "class ElectronicItem:\n",
        "    def __init__(self, item_id, name, item_type, purchase_date, status):\n",
        "        self.item_id = item_id\n",
        "        self.name = name\n",
        "        self.item_type = item_type\n",
        "        self.purchase_date = purchase_date\n",
        "        self.status = status  # e.g., \"In Use\", \"To Be Disposed\", \"Disposed\"\n",
        "        self.disposal_date = None\n",
        "\n",
        "    def mark_for_disposal(self, disposal_date):\n",
        "        self.status = \"To Be Disposed\"\n",
        "        self.disposal_date = disposal_date\n",
        "        print(f\"Item '{self.name}' marked for disposal on {self.disposal_date}.\")\n",
        "\n",
        "    def __str__(self):\n",
        "        return f\"{self.name} ({self.item_type}) - Status: {self.status}\"\n"
      ],
      "metadata": {
        "id": "9rBKevFJQfqM"
      },
      "execution_count": 14,
      "outputs": []
    },
    {
      "cell_type": "code",
      "source": [
        "class EwasteCollection:\n",
        "    def __init__(self, collection_id, item_id, scheduled_date, status=\"Scheduled\"):\n",
        "        self.collection_id = collection_id\n",
        "        self.item_id = item_id\n",
        "        self.scheduled_date = scheduled_date\n",
        "        self.collection_date = None\n",
        "        self.status = status  # e.g., \"Scheduled\", \"Collected\", \"In Progress\"\n",
        "\n",
        "    def mark_collected(self, collection_date):\n",
        "        self.collection_date = collection_date\n",
        "        self.status = \"Collected\"\n",
        "        print(f\"Collection ID '{self.collection_id}' for Item ID '{self.item_id}' marked as collected on {self.collection_date}.\")\n",
        "\n",
        "    def __str__(self):\n",
        "        return f\"Collection ID: {self.collection_id}, Item ID: {self.item_id}, Status: {self.status}\"\n"
      ],
      "metadata": {
        "id": "TOzlsgI8QrgC"
      },
      "execution_count": 15,
      "outputs": []
    },
    {
      "cell_type": "code",
      "source": [
        "class InventoryManager:\n",
        "    def __init__(self):\n",
        "        self.items = []\n",
        "\n",
        "    def add_item(self, item):\n",
        "        self.items.append(item)\n",
        "        print(f\"Added item: {item.name} (ID: {item.item_id}).\")\n",
        "\n",
        "    def get_item(self, item_id):\n",
        "        for item in self.items:\n",
        "            if item.item_id == item_id:\n",
        "                return item\n",
        "        return None\n",
        "\n",
        "    def list_items(self):\n",
        "        if not self.items:\n",
        "            print(\"No items in inventory.\")\n",
        "        else:\n",
        "            for item in self.items:\n",
        "                print(item)\n",
        "        return self.items  # Return the list of items\n",
        "\n",
        "    def mark_item_for_disposal(self, item_id, disposal_date):\n",
        "        item = self.get_item(item_id)\n",
        "        if item:\n",
        "            item.mark_for_disposal(disposal_date)\n",
        "\n",
        "    def __str__(self):\n",
        "        return f\"Inventory: {len(self.items)} items\"\n"
      ],
      "metadata": {
        "id": "0JAz2zupQw4r"
      },
      "execution_count": 16,
      "outputs": []
    },
    {
      "cell_type": "code",
      "source": [
        "def generate_report(self):\n",
        "    report = {\n",
        "        \"total_items\": len(self.inventory_manager.list_items()),  # Now correctly gets the length\n",
        "        \"total_collections\": len(self.collections),\n",
        "        \"recycling_centers\": len(self.recycling_centers)\n",
        "    }\n",
        "    print(f\"Report generated: {report}\")\n",
        "    return report\n"
      ],
      "metadata": {
        "id": "x6kTFGAgQ2x7"
      },
      "execution_count": 17,
      "outputs": []
    },
    {
      "cell_type": "code",
      "source": [
        "if __name__ == \"__main__\":\n",
        "    # Initialize the system\n",
        "    system = EwasteMonitoringSystem()\n",
        "\n",
        "    # Add electronic items\n",
        "    item1 = ElectronicItem(\"001\", \"Laptop\", \"Electronics\", \"2020-01-15\", \"In Use\")\n",
        "    item2 = ElectronicItem(\"002\", \"Printer\", \"Electronics\", \"2019-06-20\", \"In Use\")\n",
        "\n",
        "    system.inventory_manager.add_item(item1)\n",
        "    system.inventory_manager.add_item(item2)\n",
        "\n",
        "    # List all items\n",
        "    system.inventory_manager.list_items()\n",
        "\n",
        "    # Mark an item for disposal\n",
        "    system.inventory_manager.mark_item_for_disposal(\"001\", \"2024-08-20\")\n",
        "\n",
        "    # Schedule an E-waste collection\n",
        "    system.schedule_collection(\"001\", \"2024-08-25\")\n",
        "\n",
        "    # Add a recycling center\n",
        "    center = RecyclingCenter(\"RC001\", \"Green Recycle Center\", \"123 Recycle St\", \"contact@greenrecycle.com\")\n",
        "    system.add_recycling_center(center)\n",
        "\n",
        "    # Generate a report\n",
        "    system.generate_report()\n"
      ],
      "metadata": {
        "colab": {
          "base_uri": "https://localhost:8080/"
        },
        "id": "vsUG4ynsQ7wi",
        "outputId": "c8211b4a-bc10-4a2d-d22e-4d5131d0ae1a"
      },
      "execution_count": 18,
      "outputs": [
        {
          "output_type": "stream",
          "name": "stdout",
          "text": [
            "Added item: Laptop (ID: 001).\n",
            "Added item: Printer (ID: 002).\n",
            "Laptop (Electronics) - Status: In Use\n",
            "Printer (Electronics) - Status: In Use\n",
            "Item 'Laptop' marked for disposal on 2024-08-20.\n",
            "Scheduled collection for Item ID '001' on 2024-08-25.\n",
            "Added recycling center: Green Recycle Center at 123 Recycle St.\n",
            "Laptop (Electronics) - Status: To Be Disposed\n",
            "Printer (Electronics) - Status: In Use\n",
            "Report generated: {'total_items': 2, 'total_collections': 1, 'recycling_centers': 1}\n"
          ]
        }
      ]
    }
  ]
}